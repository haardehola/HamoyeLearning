{
  "nbformat": 4,
  "nbformat_minor": 0,
  "metadata": {
    "colab": {
      "name": "MyFirstColabNotebook.ipynb",
      "provenance": [],
      "authorship_tag": "ABX9TyMHES7iupjPJWrrivPReD4l",
      "include_colab_link": true
    },
    "kernelspec": {
      "name": "python3",
      "display_name": "Python 3"
    }
  },
  "cells": [
    {
      "cell_type": "markdown",
      "metadata": {
        "id": "view-in-github",
        "colab_type": "text"
      },
      "source": [
        "<a href=\"https://colab.research.google.com/github/haardehola/HamoyeLearning/blob/main/MyFirstColabNotebook.ipynb\" target=\"_parent\"><img src=\"https://colab.research.google.com/assets/colab-badge.svg\" alt=\"Open In Colab\"/></a>"
      ]
    },
    {
      "cell_type": "code",
      "metadata": {
        "id": "CxXkpCY0nxNg",
        "colab": {
          "base_uri": "https://localhost:8080/"
        },
        "outputId": "469108dc-ba31-431c-fc2f-1ece63fb9c82"
      },
      "source": [
        "import time\r\n",
        "print(time.ctime())"
      ],
      "execution_count": 1,
      "outputs": [
        {
          "output_type": "stream",
          "text": [
            "Thu Jan 28 11:16:38 2021\n"
          ],
          "name": "stdout"
        }
      ]
    },
    {
      "cell_type": "code",
      "metadata": {
        "colab": {
          "base_uri": "https://localhost:8080/"
        },
        "id": "zpncr-8Cowhi",
        "outputId": "5234088d-15bc-4784-8ec4-1b1e8b7eff5a"
      },
      "source": [
        "time.sleep(5)\r\n",
        "print(time.ctime())"
      ],
      "execution_count": 2,
      "outputs": [
        {
          "output_type": "stream",
          "text": [
            "Thu Jan 28 11:16:43 2021\n"
          ],
          "name": "stdout"
        }
      ]
    },
    {
      "cell_type": "markdown",
      "metadata": {
        "id": "A7b2wxKIqz-z"
      },
      "source": [
        "$e^x = \\sum_{i=0}^\\infty \\frac{1}{i!}x^i$"
      ]
    },
    {
      "cell_type": "code",
      "metadata": {
        "id": "SXiE4KE-rTMA"
      },
      "source": [
        ""
      ],
      "execution_count": null,
      "outputs": []
    }
  ]
}