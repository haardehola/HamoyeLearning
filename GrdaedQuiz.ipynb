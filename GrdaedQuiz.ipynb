{
  "nbformat": 4,
  "nbformat_minor": 0,
  "metadata": {
    "colab": {
      "name": "GrdaedQuiz.ipynb",
      "provenance": [],
      "collapsed_sections": [],
      "authorship_tag": "ABX9TyOU/kZEBAeP02JJJ+2VKpif",
      "include_colab_link": true
    },
    "kernelspec": {
      "name": "python3",
      "display_name": "Python 3"
    },
    "accelerator": "GPU"
  },
  "cells": [
    {
      "cell_type": "markdown",
      "metadata": {
        "id": "view-in-github",
        "colab_type": "text"
      },
      "source": [
        "<a href=\"https://colab.research.google.com/github/haardehola/HamoyeLearning/blob/main/GrdaedQuiz.ipynb\" target=\"_parent\"><img src=\"https://colab.research.google.com/assets/colab-badge.svg\" alt=\"Open In Colab\"/></a>"
      ]
    },
    {
      "cell_type": "code",
      "metadata": {
        "id": "bT8RrFgLUBjH"
      },
      "source": [
        "import numpy as np\r\n",
        "import pandas as pd\r\n",
        "html_df = pd.read_csv(\"http://bit.ly/ML-Dataset\", error_bad_lines = False)"
      ],
      "execution_count": 1,
      "outputs": []
    },
    {
      "cell_type": "code",
      "metadata": {
        "id": "-iDG6rP9UGVt"
      },
      "source": [
        "html_df.describe(include='all')"
      ],
      "execution_count": null,
      "outputs": []
    },
    {
      "cell_type": "code",
      "metadata": {
        "id": "wNKbiS3NUKZu"
      },
      "source": [
        "html_df.head()"
      ],
      "execution_count": null,
      "outputs": []
    },
    {
      "cell_type": "code",
      "metadata": {
        "id": "MWuvZkqlUPxn"
      },
      "source": [
        "html_df.groupby('fuel_type_code_pudl').mean()['fuel_cost_per_unit_burned']"
      ],
      "execution_count": null,
      "outputs": []
    },
    {
      "cell_type": "code",
      "metadata": {
        "id": "69OcmthaUWDT"
      },
      "source": [
        "html_df['fuel_mmbtu_per_unit'].std()"
      ],
      "execution_count": null,
      "outputs": []
    },
    {
      "cell_type": "code",
      "metadata": {
        "id": "m18Y2sxMUbQJ"
      },
      "source": [
        "html_df['fuel_mmbtu_per_unit'].quantile(0.75)"
      ],
      "execution_count": null,
      "outputs": []
    },
    {
      "cell_type": "code",
      "metadata": {
        "id": "db8VqyyXUfsc"
      },
      "source": [
        "html_df['fuel_qty_burned'].skew()"
      ],
      "execution_count": null,
      "outputs": []
    },
    {
      "cell_type": "code",
      "metadata": {
        "id": "-hukcUMqUji8"
      },
      "source": [
        "html_df['fuel_qty_burned'].kurtosis()"
      ],
      "execution_count": null,
      "outputs": []
    },
    {
      "cell_type": "code",
      "metadata": {
        "id": "EL51yGTCUmrc"
      },
      "source": [
        "html_df.isnull().sum()"
      ],
      "execution_count": null,
      "outputs": []
    },
    {
      "cell_type": "code",
      "metadata": {
        "id": "e0a4N8TSUtI_"
      },
      "source": [
        "index = html_df.index\r\n",
        "num_of_rows = len(index)\r\n",
        "percent = 180/num_of_rows\r\n",
        "print(percent)"
      ],
      "execution_count": null,
      "outputs": []
    },
    {
      "cell_type": "code",
      "metadata": {
        "id": "OnZmLqsOU7Kh"
      },
      "source": [
        "html_df[html_df.columns[1:]].corr()['fuel_cost_per_unit_burned'][:]"
      ],
      "execution_count": null,
      "outputs": []
    },
    {
      "cell_type": "code",
      "metadata": {
        "id": "NYsuMEUlUxCX"
      },
      "source": [
        "html_df.groupby('report_year').mean()['fuel_cost_per_unit_delivered']"
      ],
      "execution_count": null,
      "outputs": []
    }
  ]
}